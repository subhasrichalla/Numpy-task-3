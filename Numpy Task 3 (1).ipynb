{
 "cells": [
  {
   "cell_type": "markdown",
   "id": "dac41191",
   "metadata": {},
   "source": [
    "### Data Cleaning using numpy\n",
    "The following are the student marks of a class\n",
    "[44,24,np.nan,59,32,96,188,52,62,58,52,120,np.nan,np.nan,3,56,81,59,,122,92,np.nan,87,96,97,1,19,2,53, 44]"
   ]
  },
  {
   "cell_type": "code",
   "execution_count": 1,
   "id": "62682355",
   "metadata": {},
   "outputs": [],
   "source": [
    "import numpy as np"
   ]
  },
  {
   "cell_type": "code",
   "execution_count": 2,
   "id": "a0e57d7a",
   "metadata": {},
   "outputs": [
    {
     "data": {
      "text/plain": [
       "array([ 44.,  24.,  nan,  59.,  32.,  96., 188.,  52.,  62.,  58.,  52.,\n",
       "       120.,  nan,  nan,   3.,  56.,  81.,  59., 122.,  92.,  nan,  87.,\n",
       "        96.,  97.,   1.,  19.,   2.,  53.,  44.])"
      ]
     },
     "execution_count": 2,
     "metadata": {},
     "output_type": "execute_result"
    }
   ],
   "source": [
    "marks = np.array([44,24,np.nan,59,32,96,188,52,62,58,52,120,np.nan,np.nan,3,56,81,59,122,92,np.nan,87,96,97,1,19,2,53, 44])\n",
    "marks"
   ]
  },
  {
   "cell_type": "code",
   "execution_count": 3,
   "id": "2981dc9b",
   "metadata": {},
   "outputs": [
    {
     "data": {
      "text/plain": [
       "array([False, False,  True, False, False, False, False, False, False,\n",
       "       False, False, False,  True,  True, False, False, False, False,\n",
       "       False, False,  True, False, False, False, False, False, False,\n",
       "       False, False])"
      ]
     },
     "execution_count": 3,
     "metadata": {},
     "output_type": "execute_result"
    }
   ],
   "source": [
    "np.isnan(marks)"
   ]
  },
  {
   "cell_type": "markdown",
   "id": "03538b79",
   "metadata": {},
   "source": [
    "### 1.Find the no of outliers and missing values?"
   ]
  },
  {
   "cell_type": "code",
   "execution_count": 4,
   "id": "d901f779",
   "metadata": {},
   "outputs": [
    {
     "data": {
      "text/plain": [
       "4"
      ]
     },
     "execution_count": 4,
     "metadata": {},
     "output_type": "execute_result"
    }
   ],
   "source": [
    "len(marks[np.isnan(marks)])  # missing values"
   ]
  },
  {
   "cell_type": "code",
   "execution_count": 6,
   "id": "f3a495ad",
   "metadata": {},
   "outputs": [
    {
     "data": {
      "text/plain": [
       "array([False, False, False, False, False, False,  True, False, False,\n",
       "       False, False,  True, False, False, False, False, False, False,\n",
       "        True, False, False, False, False, False, False, False, False,\n",
       "       False, False])"
      ]
     },
     "execution_count": 6,
     "metadata": {},
     "output_type": "execute_result"
    }
   ],
   "source": [
    "cond = (marks>100) | (marks < 0) # outliers\n",
    "cond"
   ]
  },
  {
   "cell_type": "code",
   "execution_count": 7,
   "id": "d9406eb3",
   "metadata": {},
   "outputs": [
    {
     "data": {
      "text/plain": [
       "3"
      ]
     },
     "execution_count": 7,
     "metadata": {},
     "output_type": "execute_result"
    }
   ],
   "source": [
    "len(marks[cond])"
   ]
  },
  {
   "cell_type": "markdown",
   "id": "673f7900",
   "metadata": {},
   "source": [
    "### 2.replace the outliers with 45 and missing value with 87."
   ]
  },
  {
   "cell_type": "code",
   "execution_count": 8,
   "id": "182dd01e",
   "metadata": {},
   "outputs": [
    {
     "data": {
      "text/plain": [
       "array([[ 44,  24,  87,  59,  32,  96, 188,  52,  62,  58,  52, 120,  87,\n",
       "         87,   3,  56,  81,  59, 122,  92,  87,  87,  96,  97,   1,  19,\n",
       "          2,  53,  44]], dtype=int16)"
      ]
     },
     "execution_count": 8,
     "metadata": {},
     "output_type": "execute_result"
    }
   ],
   "source": [
    "m = np.array([np.where(np.isnan(marks),87,marks)],dtype = \"int16\") # missing value\n",
    "m"
   ]
  },
  {
   "cell_type": "code",
   "execution_count": 9,
   "id": "7ab331bf",
   "metadata": {},
   "outputs": [
    {
     "data": {
      "text/plain": [
       "array([[44, 24, 87, 59, 32, 96, 45, 52, 62, 58, 52, 45, 87, 87,  3, 56,\n",
       "        81, 59, 45, 92, 87, 87, 96, 97,  1, 19,  2, 53, 44]], dtype=int16)"
      ]
     },
     "execution_count": 9,
     "metadata": {},
     "output_type": "execute_result"
    }
   ],
   "source": [
    "marks1 = np.where(cond,45,m)\n",
    "marks1"
   ]
  },
  {
   "cell_type": "markdown",
   "id": "e0e77122",
   "metadata": {},
   "source": [
    "### 3.what is the average marks of students after 2nd step?"
   ]
  },
  {
   "cell_type": "code",
   "execution_count": 11,
   "id": "bac95690",
   "metadata": {},
   "outputs": [
    {
     "data": {
      "text/plain": [
       "56.96551724137931"
      ]
     },
     "execution_count": 11,
     "metadata": {},
     "output_type": "execute_result"
    }
   ],
   "source": [
    "np.mean(marks1)"
   ]
  },
  {
   "cell_type": "markdown",
   "id": "5b478577",
   "metadata": {},
   "source": [
    "### 4.How many students got less than 60 marks?\n"
   ]
  },
  {
   "cell_type": "code",
   "execution_count": 12,
   "id": "06aa06c8",
   "metadata": {},
   "outputs": [
    {
     "data": {
      "text/plain": [
       "18"
      ]
     },
     "execution_count": 12,
     "metadata": {},
     "output_type": "execute_result"
    }
   ],
   "source": [
    "len(marks1[marks1 < 60])"
   ]
  },
  {
   "cell_type": "markdown",
   "id": "5d50f11a",
   "metadata": {},
   "source": [
    "### 5.what is the maximum marks?"
   ]
  },
  {
   "cell_type": "code",
   "execution_count": 13,
   "id": "45c23668",
   "metadata": {},
   "outputs": [
    {
     "data": {
      "text/plain": [
       "97"
      ]
     },
     "execution_count": 13,
     "metadata": {},
     "output_type": "execute_result"
    }
   ],
   "source": [
    "np.max(marks1)"
   ]
  },
  {
   "cell_type": "markdown",
   "id": "f3a3eb1b",
   "metadata": {},
   "source": [
    "### 6.Convert the marks to float32."
   ]
  },
  {
   "cell_type": "code",
   "execution_count": 14,
   "id": "da006a77",
   "metadata": {},
   "outputs": [
    {
     "data": {
      "text/plain": [
       "array([[44., 24., 87., 59., 32., 96., 45., 52., 62., 58., 52., 45., 87.,\n",
       "        87.,  3., 56., 81., 59., 45., 92., 87., 87., 96., 97.,  1., 19.,\n",
       "         2., 53., 44.]])"
      ]
     },
     "execution_count": 14,
     "metadata": {},
     "output_type": "execute_result"
    }
   ],
   "source": [
    "np.array(marks1,dtype = \"float64\")"
   ]
  },
  {
   "cell_type": "markdown",
   "id": "ed637a15",
   "metadata": {},
   "source": [
    "### Solving Linear Equations"
   ]
  },
  {
   "cell_type": "code",
   "execution_count": 15,
   "id": "d30fe7de",
   "metadata": {},
   "outputs": [
    {
     "data": {
      "text/plain": [
       "array([[ 2,  3, -1],\n",
       "       [ 1, -1,  2],\n",
       "       [ 3,  2,  1]])"
      ]
     },
     "execution_count": 15,
     "metadata": {},
     "output_type": "execute_result"
    }
   ],
   "source": [
    "a = np.array([[2,3,-1],[1,-1,2],[3,2,1]])\n",
    "a"
   ]
  },
  {
   "cell_type": "code",
   "execution_count": 16,
   "id": "4c02bb9e",
   "metadata": {},
   "outputs": [
    {
     "data": {
      "text/plain": [
       "array([10,  5, 12])"
      ]
     },
     "execution_count": 16,
     "metadata": {},
     "output_type": "execute_result"
    }
   ],
   "source": [
    "b = np.array([10,5,12])\n",
    "b"
   ]
  },
  {
   "cell_type": "code",
   "execution_count": 17,
   "id": "af596ec2",
   "metadata": {},
   "outputs": [
    {
     "data": {
      "text/plain": [
       "array([-6.75539944e+15,  6.75539944e+15,  6.75539944e+15])"
      ]
     },
     "execution_count": 17,
     "metadata": {},
     "output_type": "execute_result"
    }
   ],
   "source": [
    "np.linalg.solve(a,b)"
   ]
  },
  {
   "cell_type": "code",
   "execution_count": 18,
   "id": "c8a7ee10",
   "metadata": {},
   "outputs": [
    {
     "data": {
      "text/plain": [
       "array([[ 2,  1, -1,  3],\n",
       "       [ 3, -2,  2,  2],\n",
       "       [ 1,  3, -2,  1],\n",
       "       [ 4, -1,  1, -2]])"
      ]
     },
     "execution_count": 18,
     "metadata": {},
     "output_type": "execute_result"
    }
   ],
   "source": [
    "a = np.array([[2,1,-1,3],[3,-2,2,2],[1,3,-2,1],[4,-1,1,-2]])\n",
    "a"
   ]
  },
  {
   "cell_type": "code",
   "execution_count": 19,
   "id": "bb692995",
   "metadata": {},
   "outputs": [
    {
     "data": {
      "text/plain": [
       "array([8, 1, 7, 3])"
      ]
     },
     "execution_count": 19,
     "metadata": {},
     "output_type": "execute_result"
    }
   ],
   "source": [
    "b = np.array([8,1,7,3])\n",
    "b"
   ]
  },
  {
   "cell_type": "code",
   "execution_count": 20,
   "id": "405ffba0",
   "metadata": {},
   "outputs": [
    {
     "data": {
      "text/plain": [
       "array([ 1.73170732, -0.75609756, -3.46341463,  0.6097561 ])"
      ]
     },
     "execution_count": 20,
     "metadata": {},
     "output_type": "execute_result"
    }
   ],
   "source": [
    "np.linalg.solve(a,b)\n"
   ]
  },
  {
   "cell_type": "code",
   "execution_count": 21,
   "id": "09b535f8",
   "metadata": {},
   "outputs": [
    {
     "data": {
      "text/plain": [
       "array([[ 4,  2, -3],\n",
       "       [-2,  3,  1],\n",
       "       [ 1, -1,  2]])"
      ]
     },
     "execution_count": 21,
     "metadata": {},
     "output_type": "execute_result"
    }
   ],
   "source": [
    "a = np.array([[4,2,-3],[-2,3,1],[1,-1,2]])\n",
    "a"
   ]
  },
  {
   "cell_type": "code",
   "execution_count": 22,
   "id": "d670cdc9",
   "metadata": {},
   "outputs": [
    {
     "data": {
      "text/plain": [
       "array([10, -3,  4])"
      ]
     },
     "execution_count": 22,
     "metadata": {},
     "output_type": "execute_result"
    }
   ],
   "source": [
    "b = np.array([10,-3,4])\n",
    "b"
   ]
  },
  {
   "cell_type": "code",
   "execution_count": 23,
   "id": "defc8dcd",
   "metadata": {},
   "outputs": [
    {
     "data": {
      "text/plain": [
       "array([2.85365854, 0.6097561 , 0.87804878])"
      ]
     },
     "execution_count": 23,
     "metadata": {},
     "output_type": "execute_result"
    }
   ],
   "source": [
    "np.linalg.solve(a,b)"
   ]
  },
  {
   "cell_type": "markdown",
   "id": "32486630",
   "metadata": {},
   "source": [
    "### Conditional Selection with np.where()\n"
   ]
  },
  {
   "cell_type": "markdown",
   "id": "919575fe",
   "metadata": {},
   "source": [
    "### 1.Generate a random 1D array A of 10 integers between 1 and 100.\n"
   ]
  },
  {
   "cell_type": "code",
   "execution_count": 24,
   "id": "930efd37",
   "metadata": {},
   "outputs": [
    {
     "data": {
      "text/plain": [
       "array([88, 64, 39, 55, 53, 60, 64, 90, 16, 34])"
      ]
     },
     "execution_count": 24,
     "metadata": {},
     "output_type": "execute_result"
    }
   ],
   "source": [
    "arr1 = np.random.randint(1,100,10)\n",
    "A = np.array(arr1)\n",
    "A"
   ]
  },
  {
   "cell_type": "markdown",
   "id": "24d0f3fa",
   "metadata": {},
   "source": [
    "### 2.Use np.where() to find the indices where the elements of A are greater than 50.\n"
   ]
  },
  {
   "cell_type": "code",
   "execution_count": 25,
   "id": "5c1b5c99",
   "metadata": {},
   "outputs": [
    {
     "name": "stdout",
     "output_type": "stream",
     "text": [
      "[88 64 55 53 60 64 90]\n"
     ]
    },
    {
     "data": {
      "text/plain": [
       "(array([0, 1, 3, 4, 5, 6, 7], dtype=int64),)"
      ]
     },
     "execution_count": 25,
     "metadata": {},
     "output_type": "execute_result"
    }
   ],
   "source": [
    "cond = A>50\n",
    "print(A[cond])\n",
    "np.where(cond)"
   ]
  },
  {
   "cell_type": "markdown",
   "id": "a323bb4e",
   "metadata": {},
   "source": [
    "### 3.Create a new array B that contains elements from A where the condition is met.\n"
   ]
  },
  {
   "cell_type": "code",
   "execution_count": 26,
   "id": "01c943e5",
   "metadata": {},
   "outputs": [
    {
     "data": {
      "text/plain": [
       "array([88, 64, 55, 53, 60, 64, 90])"
      ]
     },
     "execution_count": 26,
     "metadata": {},
     "output_type": "execute_result"
    }
   ],
   "source": [
    "B = np.array(A[A>50])\n",
    "B"
   ]
  },
  {
   "cell_type": "markdown",
   "id": "13b2e6e5",
   "metadata": {},
   "source": [
    "### 4.Calculate the mean of array B and print it along with arrays A and B.\n"
   ]
  },
  {
   "cell_type": "code",
   "execution_count": 27,
   "id": "199e2f76",
   "metadata": {},
   "outputs": [
    {
     "data": {
      "text/plain": [
       "67.71428571428571"
      ]
     },
     "execution_count": 27,
     "metadata": {},
     "output_type": "execute_result"
    }
   ],
   "source": [
    "np.mean(B)  # mean"
   ]
  },
  {
   "cell_type": "code",
   "execution_count": 28,
   "id": "29705656",
   "metadata": {},
   "outputs": [
    {
     "data": {
      "text/plain": [
       "56.3"
      ]
     },
     "execution_count": 28,
     "metadata": {},
     "output_type": "execute_result"
    }
   ],
   "source": [
    "np.mean(A)  # mean"
   ]
  },
  {
   "cell_type": "markdown",
   "id": "79bc1437",
   "metadata": {},
   "source": [
    "### Replace Values with np.where()\n",
    "### 1.Create a 4x4 random integer matrix C with values between -10 and 10"
   ]
  },
  {
   "cell_type": "code",
   "execution_count": 29,
   "id": "37c7817d",
   "metadata": {},
   "outputs": [
    {
     "data": {
      "text/plain": [
       "array([[-9,  9,  4,  8],\n",
       "       [ 4, -9, -3, -7],\n",
       "       [ 3,  6,  5,  7],\n",
       "       [-9,  3, -6,  0]])"
      ]
     },
     "execution_count": 29,
     "metadata": {},
     "output_type": "execute_result"
    }
   ],
   "source": [
    "c = np.random.randint(-10,10,16).reshape(4,4)\n",
    "c"
   ]
  },
  {
   "cell_type": "markdown",
   "id": "261e3e41",
   "metadata": {},
   "source": [
    "### 2.Use np.where() to replace all negative values in matrix C with 0\n"
   ]
  },
  {
   "cell_type": "code",
   "execution_count": 30,
   "id": "0855f968",
   "metadata": {},
   "outputs": [
    {
     "data": {
      "text/plain": [
       "array([[0, 9, 4, 8],\n",
       "       [4, 0, 0, 0],\n",
       "       [3, 6, 5, 7],\n",
       "       [0, 3, 0, 0]])"
      ]
     },
     "execution_count": 30,
     "metadata": {},
     "output_type": "execute_result"
    }
   ],
   "source": [
    "modified = np.where(c < 0,0,c)\n",
    "modified"
   ]
  },
  {
   "cell_type": "markdown",
   "id": "a2578ef3",
   "metadata": {},
   "source": [
    "### 3.Print the original matrix C and the modified matrix.\n"
   ]
  },
  {
   "cell_type": "code",
   "execution_count": 31,
   "id": "b1980f77",
   "metadata": {},
   "outputs": [
    {
     "data": {
      "text/plain": [
       "array([[-9,  9,  4,  8],\n",
       "       [ 4, -9, -3, -7],\n",
       "       [ 3,  6,  5,  7],\n",
       "       [-9,  3, -6,  0]])"
      ]
     },
     "execution_count": 31,
     "metadata": {},
     "output_type": "execute_result"
    }
   ],
   "source": [
    "c"
   ]
  },
  {
   "cell_type": "code",
   "execution_count": 32,
   "id": "c820cf65",
   "metadata": {},
   "outputs": [
    {
     "data": {
      "text/plain": [
       "array([[0, 9, 4, 8],\n",
       "       [4, 0, 0, 0],\n",
       "       [3, 6, 5, 7],\n",
       "       [0, 3, 0, 0]])"
      ]
     },
     "execution_count": 32,
     "metadata": {},
     "output_type": "execute_result"
    }
   ],
   "source": [
    "modified\n"
   ]
  },
  {
   "cell_type": "code",
   "execution_count": null,
   "id": "a8ebaaee",
   "metadata": {},
   "outputs": [],
   "source": []
  }
 ],
 "metadata": {
  "kernelspec": {
   "display_name": "Python 3 (ipykernel)",
   "language": "python",
   "name": "python3"
  },
  "language_info": {
   "codemirror_mode": {
    "name": "ipython",
    "version": 3
   },
   "file_extension": ".py",
   "mimetype": "text/x-python",
   "name": "python",
   "nbconvert_exporter": "python",
   "pygments_lexer": "ipython3",
   "version": "3.11.4"
  }
 },
 "nbformat": 4,
 "nbformat_minor": 5
}
